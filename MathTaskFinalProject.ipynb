{
 "cells": [
  {
   "cell_type": "markdown",
   "metadata": {},
   "source": [
    "<h3> Import data files </h3>"
   ]
  },
  {
   "cell_type": "code",
   "execution_count": 1,
   "metadata": {},
   "outputs": [],
   "source": [
    "import pandas as pd\n",
    "\n",
    "#load log file with no header\n",
    "#df stands for data frame\n",
    "\n",
    "df = pd.read_csv('abstractmathdatafile.csv', header=None)\n",
    "\n",
    "\n",
    "#load csv file with correct responses to each math problem as well as column of problem types\n",
    "#cor stands for correct\n",
    "\n",
    "cor = pd.read_csv('correctresponses.csv', header = None)"
   ]
  },
  {
   "cell_type": "markdown",
   "metadata": {},
   "source": [
    "<h3> Take a quick look at the dataframes </h3>"
   ]
  },
  {
   "cell_type": "code",
   "execution_count": 2,
   "metadata": {},
   "outputs": [
    {
     "name": "stdout",
     "output_type": "stream",
     "text": [
      "     0       1  2\n",
      "0    1  Prac01  3\n",
      "1    1  Prac02  3\n",
      "2    1  Prac03  1\n",
      "3    1  Prac04  2\n",
      "4    1  Prac05  1\n",
      "..  ..     ... ..\n",
      "240  5  Post31  2\n",
      "241  5  Post32  1\n",
      "242  5  Post33  2\n",
      "243  5  Post34  1\n",
      "244  5  Post35  2\n",
      "\n",
      "[245 rows x 3 columns]\n",
      "         0  1     2\n",
      "0   Prac01  3  Prac\n",
      "1   Prac02  3  Prac\n",
      "2   Prac03  1  Prac\n",
      "3   Prac04  2  Prac\n",
      "4   Prac05  1  Prac\n",
      "5   Prac06  2  Prac\n",
      "6   Inst01  2  Inst\n",
      "7   Inst02  3  Inst\n",
      "8   Inst03  3  Inst\n",
      "9   Inst04  2  Inst\n",
      "10  Inst05  3  Inst\n",
      "11  Inst06  1  Inst\n",
      "12  Inst07  1  Inst\n",
      "13  Inst08  2  Inst\n",
      "14  Post01  1  Post\n",
      "15  Post02  3  Post\n",
      "16  Post03  1  Post\n",
      "17  Post04  2  Post\n",
      "18  Post05  3  Post\n",
      "19  Post06  1  Post\n",
      "20  Post07  3  Post\n",
      "21  Post08  3  Post\n",
      "22  Post09  3  Post\n",
      "23  Post10  3  Post\n",
      "24  Post11  2  Post\n",
      "25  Post12  2  Post\n",
      "26  Post13  3  Post\n",
      "27  Post14  3  Post\n",
      "28  Post15  3  Post\n",
      "29  Post16  2  Post\n",
      "30  Post17  3  Post\n",
      "31  Post18  1  Post\n",
      "32  Post19  1  Post\n",
      "33  Post20  3  Post\n",
      "34  Post21  3  Post\n",
      "35  Post22  2  Post\n",
      "36  Post23  2  Post\n",
      "37  Post24  3  Post\n",
      "38  Post25  2  Post\n",
      "39  Post26  3  Post\n",
      "40  Post27  1  Post\n",
      "41  Post28  1  Post\n",
      "42  Post29  2  Post\n",
      "43  Post30  1  Post\n",
      "44  Post31  2  Post\n",
      "45  Post32  1  Post\n",
      "46  Post33  3  Post\n",
      "47  Post34  1  Post\n",
      "48  Post35  2  Post\n"
     ]
    }
   ],
   "source": [
    "#print all the columns and rows of each dataframe\n",
    "print(df)\n",
    "print(cor)\n"
   ]
  },
  {
   "cell_type": "code",
   "execution_count": 3,
   "metadata": {},
   "outputs": [
    {
     "name": "stdout",
     "output_type": "stream",
     "text": [
      "<class 'pandas.core.frame.DataFrame'>\n",
      "RangeIndex: 245 entries, 0 to 244\n",
      "Data columns (total 3 columns):\n",
      " #   Column  Non-Null Count  Dtype \n",
      "---  ------  --------------  ----- \n",
      " 0   0       245 non-null    int64 \n",
      " 1   1       245 non-null    object\n",
      " 2   2       245 non-null    int64 \n",
      "dtypes: int64(2), object(1)\n",
      "memory usage: 5.9+ KB\n",
      "None\n",
      "<class 'pandas.core.frame.DataFrame'>\n",
      "RangeIndex: 49 entries, 0 to 48\n",
      "Data columns (total 3 columns):\n",
      " #   Column  Non-Null Count  Dtype \n",
      "---  ------  --------------  ----- \n",
      " 0   0       49 non-null     object\n",
      " 1   1       49 non-null     int64 \n",
      " 2   2       49 non-null     object\n",
      "dtypes: int64(1), object(2)\n",
      "memory usage: 1.3+ KB\n",
      "None\n"
     ]
    }
   ],
   "source": [
    "#show info of the dataframes\n",
    "print(df.info())\n",
    "print(cor.info())"
   ]
  },
  {
   "cell_type": "code",
   "execution_count": 4,
   "metadata": {},
   "outputs": [
    {
     "name": "stdout",
     "output_type": "stream",
     "text": [
      "   0       1  2\n",
      "0  1  Prac01  3\n",
      "1  1  Prac02  3\n",
      "2  1  Prac03  1\n",
      "3  1  Prac04  2\n",
      "4  1  Prac05  1\n",
      "        0  1     2\n",
      "0  Prac01  3  Prac\n",
      "1  Prac02  3  Prac\n",
      "2  Prac03  1  Prac\n",
      "3  Prac04  2  Prac\n",
      "4  Prac05  1  Prac\n"
     ]
    }
   ],
   "source": [
    "#print the first few rows\n",
    "print(df.head())\n",
    "print(cor.head())"
   ]
  },
  {
   "cell_type": "markdown",
   "metadata": {},
   "source": [
    "<h3> Add column names to both dataframes </h3>"
   ]
  },
  {
   "cell_type": "code",
   "execution_count": 5,
   "metadata": {},
   "outputs": [
    {
     "name": "stdout",
     "output_type": "stream",
     "text": [
      "Index(['SubjectID', 'Problem', 'Response'], dtype='object')\n",
      "Index(['Problem', 'CorrectResponse', 'ProblemType'], dtype='object')\n"
     ]
    }
   ],
   "source": [
    "#adding column names for subject ID, for math problem, and for participant response in the dataframe\n",
    "df.columns = ['SubjectID', 'Problem', 'Response']\n",
    "print(df.columns)\n",
    "\n",
    "#adding column names for math problem and correct response for each problem in the correct responses dataframe\n",
    "cor.columns = ['Problem', 'CorrectResponse', \"ProblemType\"]\n",
    "print(cor.columns)\n"
   ]
  },
  {
   "cell_type": "code",
   "execution_count": 6,
   "metadata": {},
   "outputs": [
    {
     "name": "stdout",
     "output_type": "stream",
     "text": [
      "   SubjectID Problem  Response\n",
      "0          1  Prac01         3\n",
      "1          1  Prac02         3\n",
      "2          1  Prac03         1\n",
      "3          1  Prac04         2\n",
      "4          1  Prac05         1\n",
      "  Problem  CorrectResponse ProblemType\n",
      "0  Prac01                3        Prac\n",
      "1  Prac02                3        Prac\n",
      "2  Prac03                1        Prac\n",
      "3  Prac04                2        Prac\n",
      "4  Prac05                1        Prac\n"
     ]
    }
   ],
   "source": [
    "#check that the headers are correct\n",
    "print(df.head())\n",
    "print(cor.head())\n"
   ]
  },
  {
   "cell_type": "markdown",
   "metadata": {},
   "source": [
    "<h3> Merging the two data frames into one frame </h3>\n"
   ]
  },
  {
   "cell_type": "code",
   "execution_count": 7,
   "metadata": {},
   "outputs": [
    {
     "name": "stdout",
     "output_type": "stream",
     "text": [
      "   SubjectID Problem  Response  CorrectResponse ProblemType\n",
      "0          1  Prac01         3                3        Prac\n",
      "1          1  Prac02         3                3        Prac\n",
      "2          1  Prac03         1                1        Prac\n",
      "3          1  Prac04         2                2        Prac\n",
      "4          1  Prac05         1                1        Prac\n"
     ]
    }
   ],
   "source": [
    "#mp stands for math performance\n",
    "\n",
    "#pd.merge merges the two dataframes\n",
    "#specifying \"on problem\" so that they merge using that common column, and \"how left\" to keep every column in the left dataframe\n",
    "mp = pd.merge(df, cor, on = 'Problem', how = 'left')\n",
    "\n",
    "#check that this did what we wanted it to do\n",
    "print(mp.head())"
   ]
  },
  {
   "cell_type": "markdown",
   "metadata": {},
   "source": [
    "<h3> Create a column for accuracy </h3>"
   ]
  },
  {
   "cell_type": "code",
   "execution_count": 8,
   "metadata": {},
   "outputs": [
    {
     "name": "stdout",
     "output_type": "stream",
     "text": [
      "[1 1 1 1 1 0 1 0 1 1 1 1 1 0 1 1 1 1 0 1 0 1 1 1 1 0 0 1 1 1 1 1 1 1 1 1 1\n",
      " 0 0 0 0 1 0 0 0 1 1 1 1 1 0 1 1 1 0 1 0 0 0 1 1 1 1 1 1 1 1 1 1 1 1 1 1 1\n",
      " 1 1 1 1 1 1 1 1 1 1 1 0 0 1 1 1 1 1 0 1 1 1 1 1 0 0 1 1 1 1 1 1 1 1 0 1 0\n",
      " 0 1 1 1 1 0 1 1 1 1 1 1 1 1 1 1 0 1 0 0 1 1 1 1 1 1 1 1 0 0 0 1 1 1 1 1 1\n",
      " 1 1 1 1 1 1 1 1 1 1 1 1 1 1 1 1 1 0 0 1 1 1 1 1 1 0 0 0 0 1 1 1 1 1 1 1 1\n",
      " 1 1 1 1 1 1 1 1 0 1 0 1 1 1 1 1 0 1 0 1 1 0 0 1 1 1 1 1 1 1 0 0 0 1 1 1 1\n",
      " 0 0 0 1 0 0 0 0 0 0 0 1 0 1 1 1 1 0 1 1 0 1 1]\n",
      "     SubjectID Problem  Response  CorrectResponse ProblemType  Accuracy\n",
      "0            1  Prac01         3                3        Prac         1\n",
      "1            1  Prac02         3                3        Prac         1\n",
      "2            1  Prac03         1                1        Prac         1\n",
      "3            1  Prac04         2                2        Prac         1\n",
      "4            1  Prac05         1                1        Prac         1\n",
      "..         ...     ...       ...              ...         ...       ...\n",
      "240          5  Post31         2                2        Post         1\n",
      "241          5  Post32         1                1        Post         1\n",
      "242          5  Post33         2                3        Post         0\n",
      "243          5  Post34         1                1        Post         1\n",
      "244          5  Post35         2                2        Post         1\n",
      "\n",
      "[245 rows x 6 columns]\n"
     ]
    }
   ],
   "source": [
    "import numpy as np\n",
    "\n",
    "\n",
    "#compare response column to correct response \n",
    "comparison = np.where(mp[\"Response\"] == mp[\"CorrectResponse\"], 1, 0)\n",
    "print(comparison)\n",
    "\n",
    "#create new column for accuracy data\n",
    "mp[\"Accuracy\"] = comparison\n",
    "print(mp)"
   ]
  },
  {
   "cell_type": "markdown",
   "metadata": {},
   "source": [
    "<h3> Calculate Mean by Subject, by Problem Type, and by both Subject and Problem Type </h3>"
   ]
  },
  {
   "cell_type": "code",
   "execution_count": 9,
   "metadata": {
    "scrolled": true
   },
   "outputs": [
    {
     "name": "stdout",
     "output_type": "stream",
     "text": [
      "SubjectID\n",
      "1    0.714286\n",
      "2    0.836735\n",
      "3    0.755102\n",
      "4    0.836735\n",
      "5    0.591837\n",
      "Name: Accuracy, dtype: float64\n",
      "   SubjectID  PropCorrect\n",
      "0          1     0.714286\n",
      "1          2     0.836735\n",
      "2          3     0.755102\n",
      "3          4     0.836735\n",
      "4          5     0.591837\n"
     ]
    }
   ],
   "source": [
    "#calculate mean accuracy on all problems (proportion correct of all responses) for each subject \n",
    "#sm stands for subject mean\n",
    "sm = mp.groupby('SubjectID')['Accuracy'].mean()\n",
    "print(sm)\n",
    "\n",
    "#creating new dataframe to reorganize columns for data visualization\n",
    "#propcorrect stands for proportion correct\n",
    "sm2 = sm.groupby('SubjectID').mean().reset_index(name='PropCorrect')\n",
    "print(sm2)"
   ]
  },
  {
   "cell_type": "code",
   "execution_count": 10,
   "metadata": {},
   "outputs": [
    {
     "name": "stdout",
     "output_type": "stream",
     "text": [
      "ProblemType\n",
      "Inst    0.725000\n",
      "Post    0.742857\n",
      "Prac    0.800000\n",
      "Name: Accuracy, dtype: float64\n",
      "  ProblemType  PropCorrect\n",
      "0        Inst     0.725000\n",
      "1        Post     0.742857\n",
      "2        Prac     0.800000\n"
     ]
    }
   ],
   "source": [
    "#calculate mean accuracy (proportion correct) by problem type\n",
    "#ptm stands for problem type mean\n",
    "ptm = mp.groupby('ProblemType')['Accuracy'].mean()\n",
    "print(ptm)\n",
    "\n",
    "#creating new dataframe to reorganize columns for data visualization\n",
    "#propcorrect stands for proportion correct\n",
    "ptm2 = ptm.groupby('ProblemType').mean().reset_index(name='PropCorrect')\n",
    "print(ptm2)"
   ]
  },
  {
   "cell_type": "code",
   "execution_count": 11,
   "metadata": {},
   "outputs": [
    {
     "name": "stdout",
     "output_type": "stream",
     "text": [
      "SubjectID  ProblemType\n",
      "1          Inst           0.750000\n",
      "           Post           0.685714\n",
      "           Prac           0.833333\n",
      "2          Inst           0.625000\n",
      "           Post           0.914286\n",
      "           Prac           0.666667\n",
      "3          Inst           0.625000\n",
      "           Post           0.800000\n",
      "           Prac           0.666667\n",
      "4          Inst           1.000000\n",
      "           Post           0.771429\n",
      "           Prac           1.000000\n",
      "5          Inst           0.625000\n",
      "           Post           0.542857\n",
      "           Prac           0.833333\n",
      "Name: Accuracy, dtype: float64\n",
      "    SubjectID ProblemType  PropCorrect\n",
      "0           1        Inst     0.750000\n",
      "1           1        Post     0.685714\n",
      "2           1        Prac     0.833333\n",
      "3           2        Inst     0.625000\n",
      "4           2        Post     0.914286\n",
      "5           2        Prac     0.666667\n",
      "6           3        Inst     0.625000\n",
      "7           3        Post     0.800000\n",
      "8           3        Prac     0.666667\n",
      "9           4        Inst     1.000000\n",
      "10          4        Post     0.771429\n",
      "11          4        Prac     1.000000\n",
      "12          5        Inst     0.625000\n",
      "13          5        Post     0.542857\n",
      "14          5        Prac     0.833333\n"
     ]
    }
   ],
   "source": [
    "#calculate mean accuracy (proportion correct) by problem type for each subject\n",
    "#sptm stands for subject problem type mean\n",
    "sptm = mp.groupby(['SubjectID', 'ProblemType'])['Accuracy'].mean()\n",
    "print(sptm)\n",
    "\n",
    "#creating new dataframe to reorganize columns for data visualization\n",
    "#propcorrect stands for proportion correct\n",
    "sptm2 = sptm.groupby([\"SubjectID\", \"ProblemType\"]).mean().reset_index(name='PropCorrect')\n",
    "print(sptm2)"
   ]
  },
  {
   "cell_type": "markdown",
   "metadata": {},
   "source": [
    "<h3> Data Visualization </h3>"
   ]
  },
  {
   "cell_type": "code",
   "execution_count": 13,
   "metadata": {},
   "outputs": [
    {
     "data": {
      "image/png": "[encoded data removed]",
      "text/plain": [
       "<Figure size 432x288 with 1 Axes>"
      ]
     },
     "metadata": {
      "needs_background": "light"
     },
     "output_type": "display_data"
    }
   ],
   "source": [
    "import matplotlib.pyplot as plt\n",
    "import seaborn as sns\n",
    "\n",
    "#barplot with Subject on the X and Proportion Score (on all problems) on the Y; this is subject level data\n",
    "sns.barplot(x='SubjectID', y=\"PropCorrect\", data=sm2)\n",
    "plt.show()\n"
   ]
  },
  {
   "cell_type": "code",
   "execution_count": 14,
   "metadata": {},
   "outputs": [
    {
     "data": {
      "image/png": "[encoded data removed]",
      "text/plain": [
       "<Figure size 432x288 with 1 Axes>"
      ]
     },
     "metadata": {
      "needs_background": "light"
     },
     "output_type": "display_data"
    }
   ],
   "source": [
    "#barplot with Problem Type on the X and Proportion Score on the Y; this is group level data\n",
    "sns.barplot(x='ProblemType', y=\"PropCorrect\", data=ptm2)\n",
    "plt.show()"
   ]
  },
  {
   "cell_type": "code",
   "execution_count": 15,
   "metadata": {},
   "outputs": [
    {
     "data": {
      "image/png": "[encoded data removed]",
      "text/plain": [
       "<Figure size 432x288 with 1 Axes>"
      ]
     },
     "metadata": {
      "needs_background": "light"
     },
     "output_type": "display_data"
    }
   ],
   "source": [
    "#barplot with Subject on the X, Proportion on the Y, and legend for Problem Type\n",
    "sns.barplot(x='SubjectID', y=\"PropCorrect\", hue = \"ProblemType\", data=sptm2)\n",
    "plt.show()"
   ]
  },
  {
   "cell_type": "code",
   "execution_count": 16,
   "metadata": {},
   "outputs": [
    {
     "data": {
      "image/png": "[encoded data removed]",
      "text/plain": [
       "<Figure size 432x288 with 1 Axes>"
      ]
     },
     "metadata": {
      "needs_background": "light"
     },
     "output_type": "display_data"
    }
   ],
   "source": [
    "#boxplot with Problem Type on the X and Proportion Score on the Y\n",
    "sns.boxplot(x='ProblemType', y='PropCorrect', data=sptm2)\n",
    "plt.show()"
   ]
  },
  {
   "cell_type": "markdown",
   "metadata": {},
   "source": [
    "<h3> Data Analysis </h3>"
   ]
  },
  {
   "cell_type": "code",
   "execution_count": 17,
   "metadata": {},
   "outputs": [
    {
     "name": "stdout",
     "output_type": "stream",
     "text": [
      "           Mixed Linear Model Regression Results\n",
      "============================================================\n",
      "Model:               MixedLM  Dependent Variable:  Accuracy \n",
      "No. Observations:    245      Method:              REML     \n",
      "No. Groups:          5        Scale:               0.1856   \n",
      "Min. group size:     49       Log-Likelihood:      -147.7503\n",
      "Max. group size:     49       Converged:           Yes      \n",
      "Mean group size:     49.0                                   \n",
      "------------------------------------------------------------\n",
      "                    Coef. Std.Err.   z   P>|z| [0.025 0.975]\n",
      "------------------------------------------------------------\n",
      "Intercept           0.725    0.077 9.400 0.000  0.574  0.876\n",
      "ProblemType[T.Post] 0.018    0.076 0.236 0.813 -0.130  0.166\n",
      "ProblemType[T.Prac] 0.075    0.104 0.721 0.471 -0.129  0.279\n",
      "Group Var           0.007    0.017                          \n",
      "============================================================\n",
      "\n"
     ]
    },
    {
     "name": "stderr",
     "output_type": "stream",
     "text": [
      "/Users/maryaldugom/opt/anaconda3/lib/python3.7/site-packages/statsmodels/regression/mixed_linear_model.py:2149: ConvergenceWarning: The MLE may be on the boundary of the parameter space.\n",
      "  warnings.warn(msg, ConvergenceWarning)\n"
     ]
    }
   ],
   "source": [
    "import statsmodels.api as sm\n",
    "import statsmodels.formula.api as smf\n",
    "\n",
    "#linear mixed effects model where accuracy on each problem is predicted by problem type\n",
    "#with a random intercept for subject, which accounts for random error due to subject differences\n",
    "\n",
    "md = smf.mixedlm(\"Accuracy ~ ProblemType\", mp, groups=mp[\"SubjectID\"])\n",
    "mdf = md.fit()\n",
    "print(mdf.summary())\n"
   ]
  },
  {
   "cell_type": "code",
   "execution_count": null,
   "metadata": {},
   "outputs": [],
   "source": []
  }
 ],
 "metadata": {
  "kernelspec": {
   "display_name": "Python 3",
   "language": "python",
   "name": "python3"
  },
  "language_info": {
   "codemirror_mode": {
    "name": "ipython",
    "version": 3
   },
   "file_extension": ".py",
   "mimetype": "text/x-python",
   "name": "python",
   "nbconvert_exporter": "python",
   "pygments_lexer": "ipython3",
   "version": "3.7.6"
  }
 },
 "nbformat": 4,
 "nbformat_minor": 4
}
